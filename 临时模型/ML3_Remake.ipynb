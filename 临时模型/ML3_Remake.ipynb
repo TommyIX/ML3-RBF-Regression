{
 "metadata": {
  "language_info": {
   "codemirror_mode": {
    "name": "ipython",
    "version": 3
   },
   "file_extension": ".py",
   "mimetype": "text/x-python",
   "name": "python",
   "nbconvert_exporter": "python",
   "pygments_lexer": "ipython3",
   "version": 3
  },
  "orig_nbformat": 2
 },
 "nbformat": 4,
 "nbformat_minor": 2,
 "cells": [
  {
   "cell_type": "code",
   "execution_count": null,
   "metadata": {},
   "outputs": [],
   "source": [
    "#运行本notebook需要以下库，如本cell报错，请先安装库\n",
    "import numpy as np\n",
    "import pandas as pd\n",
    "import matplotlib.pyplot as plt\n",
    "import csv\n",
    "import math\n",
    "from sklearn.model_selection import KFold\n",
    "from scipy.io import loadmat"
   ]
  },
  {
   "cell_type": "code",
   "execution_count": null,
   "metadata": {},
   "outputs": [],
   "source": [
    "#参数表，能够通过调整这些参数改变模型运算的性能\n",
    "#隐藏神经元的数量，可改变来改变隐藏层的规模\n",
    "center_point_number=720 \n",
    "#用于训练集的mat文件\n",
    "mat_path = '测试数据(小组)\\\\train.mat'\n",
    "\n",
    "#用于测试集的mat文件\n",
    "mat_path_test = '其他资料\\测试数据(所有人)\\\\3\\\\train.mat'"
   ]
  },
  {
   "cell_type": "code",
   "execution_count": null,
   "metadata": {},
   "outputs": [],
   "source": [
    "#数据预处理函数\n",
    "def matimport(path): #返回训练值和标记值\n",
    "    m = loadmat(path)\n",
    "    return m['feature'],m['label']\n",
    "\n",
    "#输出标签数据处理函数\n",
    "def Output_Matrix(input_y):#对label值进行一些调整，把0变为[1,0,0],1变[0,1,0],2变[0,0,1]\n",
    "    size=input_y.shape[0]           \n",
    "    op_y=np.zeros((size,3))\n",
    "    for i in range(size):\n",
    "        if input_y[i]==0:\n",
    "            op_y[i][0]=1\n",
    "        elif input_y[i]==1:\n",
    "            op_y[i][1]=1\n",
    "        else:\n",
    "            op_y[i][2]=1\n",
    "    return op_y"
   ]
  },
  {
   "cell_type": "code",
   "execution_count": null,
   "metadata": {},
   "outputs": [],
   "source": [
    "#有关计算函数\n",
    "def MED(point1,point2):         #计算两点之间的欧式距离\n",
    "    return (np.sum((point1-point2)**2))**0.5\n",
    "    \n",
    "def Gaussian(point1,point2,variance):  #径向基函数、高斯函数\n",
    "    return math.exp(-(MED(point1,point2))**2/(2*variance**2))\n",
    "\n",
    "def get_variance(center_point_number,center_point):   #计算方差\n",
    "    max_MED=0\n",
    "    for i in range(center_point_number):\n",
    "        for j in range(center_point_number):\n",
    "            med_=MED(center_point[i],center_point[j])\n",
    "            if med_>max_MED:\n",
    "                max_MED=med_\n",
    "    return max_MED/((2*center_point_number)**0.5)\n",
    "\n",
    "def get_wight(ip_x,center_point,center_point_number,op_y,variance):          #计算权值矩阵\n",
    "    weight=np.zeros((center_point_number,3))      #权重矩阵\n",
    "    j_matrix=np.zeros((center_point_number,ip_x.shape[1])) #激励矩阵\n",
    "    for i in range(center_point_number):\n",
    "        for j in range(ip_x.shape[1]):\n",
    "            j_matrix[i][j]=Gaussian(center_point[i],ip_x[j], variance)\n",
    "    j_inverse=np.linalg.pinv(j_matrix)    #激励矩阵的伪逆\n",
    "    weight=np.dot(j_inverse.T,op_y)\n",
    "    return weight "
   ]
  }
 ]
}