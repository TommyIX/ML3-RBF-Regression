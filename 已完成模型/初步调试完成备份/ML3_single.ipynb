{
 "metadata": {
  "language_info": {
   "codemirror_mode": {
    "name": "ipython",
    "version": 3
   },
   "file_extension": ".py",
   "mimetype": "text/x-python",
   "name": "python",
   "nbconvert_exporter": "python",
   "pygments_lexer": "ipython3",
   "version": "3.8.5-final"
  },
  "orig_nbformat": 2,
  "kernelspec": {
   "name": "python3",
   "display_name": "Python 3"
  }
 },
 "nbformat": 4,
 "nbformat_minor": 2,
 "cells": [
  {
   "cell_type": "code",
   "execution_count": 1,
   "metadata": {},
   "outputs": [],
   "source": [
    "#运行本notebook需要以下库，如本cell报错，请先安装库\n",
    "import numpy as np\n",
    "import pandas as pd\n",
    "import matplotlib.pyplot as plt\n",
    "import csv\n",
    "import math\n",
    "from sklearn.model_selection import KFold\n",
    "from scipy.io import loadmat"
   ]
  },
  {
   "cell_type": "code",
   "execution_count": 2,
   "metadata": {},
   "outputs": [],
   "source": [
    "def matimport(path):\n",
    "    m = loadmat(path)\n",
    "    return m['feature'],m['label']"
   ]
  },
  {
   "cell_type": "code",
   "execution_count": 3,
   "metadata": {},
   "outputs": [],
   "source": [
    "#请输入用于训练集的mat文件\n",
    "mat_path = '测试数据(小组)\\\\train.mat'\n",
    "#请输入用于测试集的mat文件\n",
    "mat_path_test = '其他资料\\测试数据(所有人)\\\\3\\\\train.mat'"
   ]
  },
  {
   "cell_type": "code",
   "execution_count": 4,
   "metadata": {},
   "outputs": [],
   "source": [
    "#参数表，能够通过调整这些参数改变模型运算的性能\n",
    "center_point_number=720         #隐藏神经元的数量，可改变来改变隐藏层的规模\n",
    "source1,source2 = matimport(mat_path_test)"
   ]
  },
  {
   "cell_type": "code",
   "execution_count": 5,
   "metadata": {},
   "outputs": [],
   "source": [
    "#有关计算函数\n",
    "def MED(point1,point2):         #计算两点之间的欧式距离\n",
    "    return (np.sum((point1-point2)**2))**0.5\n",
    "    \n",
    "def Gaussian(point1,point2,variance):  #径向基函数、高斯函数\n",
    "    return math.exp(-(MED(point1,point2))**2/(2*variance**2))\n",
    "\n",
    "def get_variance(center_point_number,center_point):   #计算方差\n",
    "    max_MED=0\n",
    "    for i in range(center_point_number):\n",
    "        for j in range(center_point_number):\n",
    "            med_=MED(center_point[i],center_point[j])\n",
    "            if med_>max_MED:\n",
    "                max_MED=med_\n",
    "    return max_MED/((2*center_point_number)**0.5)\n",
    "\n",
    "def get_wight(ip_x,center_point,center_point_number,op_y,variance):          #计算权值矩阵\n",
    "    weight=np.zeros((center_point_number,3))      #权重矩阵\n",
    "    j_matrix=np.zeros((center_point_number,train_number)) #激励矩阵\n",
    "    for i in range(center_point_number):\n",
    "        for j in range(train_number):\n",
    "            j_matrix[i][j]=Gaussian(center_point[i],ip_x[j], variance)\n",
    "    j_inverse=np.linalg.pinv(j_matrix)    #激励矩阵的伪逆\n",
    "    weight=np.dot(j_inverse.T,op_y)\n",
    "    return weight "
   ]
  },
  {
   "cell_type": "code",
   "execution_count": 6,
   "metadata": {},
   "outputs": [],
   "source": [
    "#神经元操作\n",
    "def tcal_y(input_x,weight):        #由神经元的输出乘以权重计算最终输出\n",
    "    size=input_x.shape[0]\n",
    "    y=np.array((size,3))\n",
    "    y=np.dot(input_x,weight)\n",
    "    return y\n",
    "\n",
    "\n",
    "def cal_hide_output_matrix(input_x,center,center_point_number,variance):   #计算所有神经元的输出\n",
    "    size=input_x.shape[0]                      #神经元个数\n",
    "    hide_output_matrix=np.zeros((size,center_point_number))    \n",
    "    for i in range(size):\n",
    "        for j in range(center_point_number):   \n",
    "            hide_output_matrix[i][j]=Gaussian(input_x[i],center[j], variance)  #利用高斯函数进行映射\n",
    "    return hide_output_matrix"
   ]
  },
  {
   "cell_type": "code",
   "execution_count": 7,
   "metadata": {},
   "outputs": [],
   "source": [
    "#K-Means聚类操作\n",
    "def calc_center_point(cluster):         #计算簇的中心点\n",
    "    size_of_cluster = len(cluster)            #簇中的点的个数\n",
    "    center_point=np.zeros((1,70))\n",
    "    for i in range(size_of_cluster):\n",
    "        center_point=center_point+cluster[i]         #所有点加起来再除以个数\n",
    "    center_point = center_point*(1/size_of_cluster)\n",
    "    return center_point\n",
    " \n",
    "    \n",
    "def point_no_equal(point1,point2):   #判断两个中心点是否重合\n",
    "    size=point1.shape[0]\n",
    "    for i in range(size):\n",
    "        if point1[i]!=point2[i]:\n",
    "            return True\n",
    "    return False\n",
    "\n",
    "def check_center_diff(center, new_center):    #检查迭代之后形成的所有中心点与上一次是否相同\n",
    "    n = len(center)\n",
    "    for i in range(n):\n",
    "        if point_no_equal(new_center[i],center[i]):\n",
    "            return False\n",
    "    return True\n",
    "\n",
    "def k_means(input_x,k):  #k—means聚类方法\n",
    "    center=input_x[:k]     #先曲前k个点作为中心点\n",
    "    size=input_x.shape[0]   #总的点数\n",
    "    cluster=[]              \n",
    "    max_n=0              #最大迭代次数\n",
    "    while True:\n",
    "        for i in range(k):\n",
    "            cluster.append([])\n",
    "        for i in range(size):    #遍历每个点找到属于哪个簇\n",
    "            min=1e5\n",
    "            min_index=-1\n",
    "            for j in range(k): \n",
    "                med_=MED(input_x[i],center[j])\n",
    "                if min>med_:\n",
    "                    min=med_\n",
    "                    min_index=j\n",
    "            cluster[min_index].append(input_x[i])\n",
    "        temp_center=np.zeros((k,input_x.shape[1]))   #新的中心点\n",
    "        for i in range(k):\n",
    "            temp_center[i]=calc_center_point(cluster[i])\n",
    "        if check_center_diff(center, temp_center):   #检查新旧的各个中心点是否相同，若相同停止聚类\n",
    "            break\n",
    "        max_n+=1\n",
    "        if max_n>100:\n",
    "            break\n",
    "        center=temp_center    #更新所有中心点\n",
    "        cluster=[]\n",
    "    return center"
   ]
  },
  {
   "cell_type": "code",
   "execution_count": 8,
   "metadata": {},
   "outputs": [],
   "source": [
    "#数据处理\n",
    "def Output_Matrix(input_y):           #对label值进行一些调整，把0变为[1,0,0],1变[0,1,0],2变[0,0,1]\n",
    "    size=input_y.shape[0]           \n",
    "    op_y=np.zeros((size,3))\n",
    "    for i in range(size):\n",
    "        if input_y[i]==0:\n",
    "            op_y[i][0]=1\n",
    "        elif input_y[i]==1:\n",
    "            op_y[i][1]=1\n",
    "        else:\n",
    "            op_y[i][2]=1\n",
    "    return op_y"
   ]
  },
  {
   "cell_type": "code",
   "execution_count": 9,
   "metadata": {},
   "outputs": [],
   "source": [
    "ip_x2=np.array(source1)                       #特征值矩阵\n",
    "ip_y2=np.array(source2)                      #label矩阵\n",
    "ip_y2=ip_y2.reshape(720,1)               #转置便于后面的计算"
   ]
  },
  {
   "cell_type": "code",
   "execution_count": 10,
   "metadata": {},
   "outputs": [],
   "source": [
    "sourcedata_feature,sourcedata_label = matimport(mat_path)\n",
    "total_data_number=sourcedata_label.shape[1]   #总的样本数据个数\n",
    "ip_x=np.array(sourcedata_feature)                  #特征值矩阵\n",
    "ip_y=np.array(sourcedata_label)                     #label矩阵\n",
    "ip_y=ip_y.reshape(720,1)                        #转置便于后面的计算\n",
    "train_number=int(total_data_number*10/10);      #用来训练模型的样本个数,由于用了其他小组的数据作为测试集故可用自己的全部的数据训练模型"
   ]
  },
  {
   "cell_type": "code",
   "execution_count": 11,
   "metadata": {},
   "outputs": [
    {
     "output_type": "stream",
     "name": "stdout",
     "text": [
      "0.9972222222222222\n"
     ]
    }
   ],
   "source": [
    "k_center=k_means(ip_x[:train_number],center_point_number)  #k-means聚类\n",
    "        \n",
    "var=get_variance(center_point_number,k_center)    #高斯函数的方差\n",
    "output=Output_Matrix(ip_y)                        #改变训练集的输出\n",
    "output2=Output_Matrix(ip_y2)                      #改变测试集的输出\n",
    "weight=get_wight(ip_x[:train_number],k_center,center_point_number,output[:train_number] , var) #计算权重\n",
    "hide_output_matrix=cal_hide_output_matrix(ip_x2[:],k_center, center_point_number,var)  #计算神经元输出\n",
    "y=tcal_y(hide_output_matrix,weight)          #计算最总输出\n",
    "accurate=0                        #正确的个数\n",
    "for i in range(total_data_number):   #将输出的三个值先进行比较最大的变为1，剩下的全为0，与output统一\n",
    "    if y[i][0]>y[i][1] and y[i][0]>y[i][2]:\n",
    "        y[i][0]=1\n",
    "        y[i][1]=0\n",
    "        y[i][2]=0\n",
    "    elif y[i][1]>y[i][0] and y[i][1]>y[i][2]:\n",
    "        y[i][0]=0\n",
    "        y[i][1]=1\n",
    "        y[i][2]=0\n",
    "    else:\n",
    "        y[i][0]=0\n",
    "        y[i][1]=0\n",
    "        y[i][2]=1\n",
    "for i in range(total_data_number):    #比较相同的个数\n",
    "    if y[i][0]==1 and y[i][0]==output2[i][0]:\n",
    "        accurate+=1\n",
    "    elif y[i][1]==1 and y[i][1]==output2[i][1]:\n",
    "        accurate+=1\n",
    "    elif y[i][2]==1 and y[i][2]==output2[i][2]:\n",
    "        accurate+=1\n",
    "rate=accurate/(total_data_number)   #正确率\n",
    "print(rate)"
   ]
  }
 ]
}